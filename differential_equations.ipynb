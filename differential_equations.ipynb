{
 "cells": [
  {
   "attachments": {},
   "cell_type": "markdown",
   "metadata": {},
   "source": [
    "# Differential Equations\n",
    "- Differential equation functionality in Julia with explanation\n",
    "\n",
    "### Basics: Functions and Derivates\n",
    "- Functions can be defined using syntax equivalent to the mathematical notation\n",
    "- Derivatives are not built in to Julia's standard library, so I have included the following libraries\n",
    "- https://github.com/JuliaSymbolics/Symbolics.jl\n",
    "- https://github.com/SciML/ModelingToolkit.jl"
   ]
  },
  {
   "cell_type": "code",
   "execution_count": 1,
   "metadata": {},
   "outputs": [
    {
     "data": {
      "text/latex": [
       "$$ \\begin{equation}\n",
       "3 x^{2}\n",
       "\\end{equation}\n",
       " $$"
      ],
      "text/plain": [
       "3(x^2)"
      ]
     },
     "metadata": {},
     "output_type": "display_data"
    }
   ],
   "source": [
    "using Symbolics\n",
    "\n",
    "# declare a variable to differente with respect to\n",
    "@variables x\n",
    "D = Differential(x)\n",
    "\n",
    "# define function with symbolic variable x\n",
    "y = x^3\n",
    "\n",
    "# prepare derivative, calculate, and simplify form\n",
    "dy = D(y) |> expand_derivatives\n"
   ]
  },
  {
   "cell_type": "code",
   "execution_count": 2,
   "metadata": {},
   "outputs": [],
   "source": [
    "using Plots\n",
    "\n",
    "dy = build_function(dy, x, expression = Val{false}) |> eval\n",
    "y = build_function(y, x, expression = Val{false}) |> eval\n",
    "\n",
    "plot!(-10:10, dy)\n",
    "plot!(-10:10, y)"
   ]
  }
 ],
 "metadata": {
  "kernelspec": {
   "display_name": "Julia 1.8.5",
   "language": "julia",
   "name": "julia-1.8"
  },
  "language_info": {
   "file_extension": ".jl",
   "mimetype": "application/julia",
   "name": "julia",
   "version": "1.8.5"
  },
  "orig_nbformat": 4
 },
 "nbformat": 4,
 "nbformat_minor": 2
}
