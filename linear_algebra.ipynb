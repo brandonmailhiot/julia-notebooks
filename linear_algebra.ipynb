{
 "cells": [
  {
   "attachments": {},
   "cell_type": "markdown",
   "metadata": {},
   "source": [
    "# Linear Algebra\n",
    "- Quick demo of the linear algebra features of Julia with some explanation\n",
    "\n",
    "## Matrix Multiplication\n",
    "- Associative\n",
    "- Not commutative\n",
    "- A matrix multiplied by a vector is a vector\n",
    "- A matrix multiplied by a matrix is a matrix\n",
    "- A vector multiplied by a vector is invalid\n",
    "- This is the foundation for a change of basis vectors."
   ]
  },
  {
   "cell_type": "code",
   "execution_count": 1,
   "metadata": {
    "dotnet_interactive": {
     "language": "csharp"
    },
    "polyglot_notebook": {
     "kernelName": "csharp"
    }
   },
   "outputs": [
    {
     "name": "stdout",
     "output_type": "stream",
     "text": [
      "Matrix * vector = vector: [21, 16]\n",
      "Matrix * matrix = matrix: "
     ]
    },
    {
     "name": "stdout",
     "output_type": "stream",
     "text": [
      "[21 18; 16 11]\n",
      "Matrices are not commutative: [27 6; 32 5]\n",
      "Can't matrix multiply vectors\n"
     ]
    }
   ],
   "source": [
    "using LinearAlgebra\n",
    "\n",
    "v₁ = [3; 1]\n",
    "v₂ = [0; 1]\n",
    "F = hcat(v₁, v₂)\n",
    "\n",
    "v₃ = [7; 9]\n",
    "v₄ = [6; 5]\n",
    "G = hcat(v₃, v₄)\n",
    "\n",
    "println(\"Matrix * vector = vector: \", F * v₃)\n",
    "println(\"Matrix * matrix = matrix: \", F * G)\n",
    "println(\"Matrices are not commutative: \", G * F)\n",
    "\n",
    "try\n",
    "    v₁ * v₂\n",
    "catch\n",
    "    println(\"Can't matrix multiply vectors\")\n",
    "end"
   ]
  },
  {
   "attachments": {},
   "cell_type": "markdown",
   "metadata": {},
   "source": [
    "## Determinant\n",
    "- A scalar multiple representing how much a matrix transform scales an area\n",
    "- Only square matrices have a determinant"
   ]
  },
  {
   "cell_type": "code",
   "execution_count": 20,
   "metadata": {},
   "outputs": [
    {
     "name": "stdout",
     "output_type": "stream",
     "text": [
      "3.0\n",
      "-19.000000000000004\n",
      "Non-square matrices do not have a determinant\n"
     ]
    }
   ],
   "source": [
    "println(det(F))\n",
    "println(det(G))\n",
    "\n",
    "try\n",
    "    v₁ᵀ = v₁'\n",
    "    det(v₁ᵀ)\n",
    "catch\n",
    "    println(\"Non-square matrices do not have a determinant\")\n",
    "end"
   ]
  },
  {
   "attachments": {},
   "cell_type": "markdown",
   "metadata": {},
   "source": [
    "## Dot Product\n",
    "- An operation between two vectors.\n",
    "- Equivalent to matrix-vector multiplication\n",
    "- To multiply by the matrix form of a vector is to view that vector as a transform"
   ]
  },
  {
   "cell_type": "code",
   "execution_count": 19,
   "metadata": {},
   "outputs": [
    {
     "data": {
      "text/plain": [
       "true"
      ]
     },
     "metadata": {},
     "output_type": "display_data"
    }
   ],
   "source": [
    "v₃ᵀ = v₃'\n",
    "dot(v₃, v₄) == v₃ᵀ * v₄"
   ]
  },
  {
   "attachments": {},
   "cell_type": "markdown",
   "metadata": {},
   "source": [
    "## Cross Product\n",
    "- An operation between two vectors.\n",
    "- Produces a perpendicular vector with magnitude equivalent to the area of the parallelogram between two vectors.\n",
    "- Also equivalent to taking the determinant of the vectors if they were composed into a square matrix.\n",
    "- The cross product is only defined for 3-element vectors in Julia, so 0 is added for the z component."
   ]
  },
  {
   "cell_type": "code",
   "execution_count": 43,
   "metadata": {},
   "outputs": [
    {
     "data": {
      "text/plain": [
       "true"
      ]
     },
     "metadata": {},
     "output_type": "display_data"
    }
   ],
   "source": [
    "v₅ = [1; 2; 0]\n",
    "v₆ = [4; 5; 0]\n",
    "\n",
    "v₇ = cross(v₅, v₆)\n",
    "mag_v₇ = v₇.^2 |> sum |> sqrt # broadcast multiplication with dot\n",
    "det_v₇ = [1 4; 2 5] |> det |> abs\n",
    "\n",
    "mag_v₇ == det_v₇"
   ]
  },
  {
   "attachments": {},
   "cell_type": "markdown",
   "metadata": {},
   "source": [
    "## Inverse Matrices\n",
    "- Applying an inverse matrix is equivalent to undoing a transform\n",
    "- A matrix multiplied by its inverse is the identity matrix"
   ]
  },
  {
   "cell_type": "code",
   "execution_count": 32,
   "metadata": {},
   "outputs": [
    {
     "name": "stdout",
     "output_type": "stream",
     "text": [
      "true\n"
     ]
    },
    {
     "data": {
      "text/plain": [
       "2×2 Matrix{Float64}:\n",
       "  0.333333  0.0\n",
       " -0.333333  1.0"
      ]
     },
     "metadata": {},
     "output_type": "display_data"
    }
   ],
   "source": [
    "I = [1 0; 0 1]\n",
    "F⁻¹ = inv(F)\n",
    "\n",
    "println(F*F⁻¹ == I)\n",
    "F⁻¹"
   ]
  },
  {
   "attachments": {},
   "cell_type": "markdown",
   "metadata": {},
   "source": [
    "## Vector Rotation"
   ]
  },
  {
   "cell_type": "code",
   "execution_count": 41,
   "metadata": {},
   "outputs": [
    {
     "data": {
      "text/plain": [
       "2-element Vector{Int64}:\n",
       " 4\n",
       " 0"
      ]
     },
     "metadata": {},
     "output_type": "display_data"
    }
   ],
   "source": [
    "v₈ = [0; 4]\n",
    "rotate = [0 1; 1 0]\n",
    "rotate * v₈"
   ]
  },
  {
   "attachments": {},
   "cell_type": "markdown",
   "metadata": {},
   "source": [
    "## Eigenvalues and Eigenvectors\n",
    "- Eigenvectors are the set of vectors that remain parallel to themselves before and after a transform\n",
    "- i.e. Rotation does not occur for eigenvectors\n",
    "- Eigenvalues are a measure of sheer applied to the eigenvectors"
   ]
  },
  {
   "cell_type": "code",
   "execution_count": 53,
   "metadata": {},
   "outputs": [
    {
     "data": {
      "text/plain": [
       "Eigen{Float64, Float64, Matrix{Float64}, Vector{Float64}}\n",
       "values:\n",
       "2-element Vector{Float64}:\n",
       " 2.0\n",
       " 4.0\n",
       "vectors:\n",
       "2×2 Matrix{Float64}:\n",
       " 0.0  1.0\n",
       " 1.0  0.0"
      ]
     },
     "metadata": {},
     "output_type": "display_data"
    }
   ],
   "source": [
    "eigen([4 0; 0 2])"
   ]
  }
 ],
 "metadata": {
  "kernelspec": {
   "display_name": "Julia 1.8.5",
   "language": "julia",
   "name": "julia-1.8"
  },
  "language_info": {
   "file_extension": ".jl",
   "mimetype": "application/julia",
   "name": "julia",
   "version": "1.8.5"
  },
  "orig_nbformat": 4,
  "polyglot_notebook": {
   "kernelInfo": {
    "defaultKernelName": "csharp",
    "items": [
     {
      "aliases": [],
      "name": "csharp"
     }
    ]
   }
  }
 },
 "nbformat": 4,
 "nbformat_minor": 2
}
