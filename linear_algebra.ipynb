{
 "cells": [
  {
   "attachments": {},
   "cell_type": "markdown",
   "metadata": {},
   "source": [
    "# Linear Algebra\n",
    "- Quick demo of the linear algebra features of Julia with some explanation\n",
    "\n",
    "## Matrix Multiplication\n",
    "- Associative\n",
    "- Not commutative\n",
    "- A matrix multiplied by a vector is a vector\n",
    "- A matrix multiplied by a matrix is a matrix\n",
    "- A vector multiplied by a vector is invalid"
   ]
  },
  {
   "cell_type": "code",
   "execution_count": 45,
   "metadata": {
    "dotnet_interactive": {
     "language": "csharp"
    },
    "polyglot_notebook": {
     "kernelName": "csharp"
    }
   },
   "outputs": [
    {
     "name": "stdout",
     "output_type": "stream",
     "text": [
      "Matrix * vector = vector: [21, 16]\n",
      "Matrix * matrix = matrix: [21 18; 16 11]\n",
      "Matrices are not commutative: [27 6; 32 5]\n",
      "Can't matrix multiply vectors\n"
     ]
    }
   ],
   "source": [
    "using LinearAlgebra\n",
    "\n",
    "v1 = [3; 1]\n",
    "v2 = [0; 1]\n",
    "F = hcat(v1, v2)\n",
    "\n",
    "v3 = [7; 9]\n",
    "v4 = [6; 5]\n",
    "G = hcat(v3, v4)\n",
    "\n",
    "println(\"Matrix * vector = vector: \", F * v3)\n",
    "println(\"Matrix * matrix = matrix: \", F * G)\n",
    "println(\"Matrices are not commutative: \", G * F)\n",
    "\n",
    "try\n",
    "    v1 * v2\n",
    "catch\n",
    "    println(\"Can't matrix multiply vectors\")\n",
    "end"
   ]
  },
  {
   "attachments": {},
   "cell_type": "markdown",
   "metadata": {},
   "source": [
    "## Determinant\n",
    "- A scalar multiple representing how much a matrix transform scales an area\n",
    "- Only square matrices have a determinant"
   ]
  },
  {
   "cell_type": "code",
   "execution_count": 46,
   "metadata": {},
   "outputs": [
    {
     "name": "stdout",
     "output_type": "stream",
     "text": [
      "3.0\n",
      "-19.000000000000004\n",
      "Non-square matrices do not have a determinant\n"
     ]
    }
   ],
   "source": [
    "println(det(F))\n",
    "println(det(G))\n",
    "\n",
    "try\n",
    "    det(v1')\n",
    "catch\n",
    "    println(\"Non-square matrices do not have a determinant\")\n",
    "end"
   ]
  },
  {
   "attachments": {},
   "cell_type": "markdown",
   "metadata": {},
   "source": [
    "## Dot Product\n",
    "- An operation between two vectors.\n",
    "- Equivalent to matrix-vector multiplication\n",
    "- To multiply by the matrix form of a vector is to view that vector as a transform"
   ]
  },
  {
   "cell_type": "code",
   "execution_count": 44,
   "metadata": {},
   "outputs": [
    {
     "data": {
      "text/plain": [
       "true"
      ]
     },
     "metadata": {},
     "output_type": "display_data"
    }
   ],
   "source": [
    "dot(v3, v4) == v3' * v4"
   ]
  },
  {
   "attachments": {},
   "cell_type": "markdown",
   "metadata": {},
   "source": [
    "## Cross Product\n",
    "- An operation between two vectors.\n",
    "- Produces a perpendicular vector with magnitude equivalent to the area of the parallelogram between two vectors.\n",
    "- Also equivalent to taking the determinant of the vectors if they were composed into a square matrix.\n",
    "- The cross product is only defined for 3-element vectors in Julia, so 0 is added for the z component."
   ]
  },
  {
   "cell_type": "code",
   "execution_count": 70,
   "metadata": {},
   "outputs": [
    {
     "data": {
      "text/plain": [
       "true"
      ]
     },
     "metadata": {},
     "output_type": "display_data"
    }
   ],
   "source": [
    "v5 = [1; 2; 0]\n",
    "v6 = [4; 5; 0]\n",
    "\n",
    "v7 = cross(v5, v6)\n",
    "v7_magnitude = sqrt(sum(v7.^2)) # broadcast multiplication with dot\n",
    "v7_determinant = abs(det([1 4; 2 5]))\n",
    "\n",
    "v7_magnitude == v7_determinant"
   ]
  }
 ],
 "metadata": {
  "kernelspec": {
   "display_name": "Julia 1.8.5",
   "language": "julia",
   "name": "julia-1.8"
  },
  "language_info": {
   "file_extension": ".jl",
   "mimetype": "application/julia",
   "name": "julia",
   "version": "1.8.5"
  },
  "orig_nbformat": 4,
  "polyglot_notebook": {
   "kernelInfo": {
    "defaultKernelName": "csharp",
    "items": [
     {
      "aliases": [],
      "name": "csharp"
     }
    ]
   }
  }
 },
 "nbformat": 4,
 "nbformat_minor": 2
}
